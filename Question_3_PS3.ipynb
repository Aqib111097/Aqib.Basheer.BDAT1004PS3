{
 "cells": [
  {
   "cell_type": "code",
   "execution_count": 1,
   "id": "ea0582ff-ec81-4e0f-9dc4-e17440380f2a",
   "metadata": {},
   "outputs": [
    {
     "name": "stdout",
     "output_type": "stream",
     "text": [
      "299\n",
      "         0\n",
      "0        2\n",
      "1        1\n",
      "2        2\n",
      "3        4\n",
      "4        3\n",
      "..     ...\n",
      "295  11353\n",
      "296  12325\n",
      "297  20867\n",
      "298  15321\n",
      "299  29834\n",
      "\n",
      "[300 rows x 1 columns]\n"
     ]
    }
   ],
   "source": [
    "# Step 1: Import necessary libraries\n",
    "import pandas as pd\n",
    "import numpy as np\n",
    "\n",
    "# Step 2: Create 3 different Series\n",
    "series1 = pd.Series(np.random.randint(1, 5, size=100))  # random numbers from 1 to 4\n",
    "series2 = pd.Series(np.random.randint(1, 4, size=100))  # random numbers from 1 to 3\n",
    "series3 = pd.Series(np.random.randint(10000, 30001, size=100))  # random numbers from 10000 to 30000\n",
    "\n",
    "# Step 3: Create a DataFrame by joining the Series by column\n",
    "data = {'bedrs': series1, 'bathrs': series2, 'price_sqr_meter': series3}\n",
    "df = pd.DataFrame(data)\n",
    "\n",
    "# Step 4: Change the name of the columns\n",
    "df.columns = ['bedrs', 'bathrs', 'price_sqr_meter']\n",
    "\n",
    "# Step 5: Create a one-column DataFrame with the values of the 3 Series\n",
    "bigcolumn = pd.concat([series1, series2, series3], axis=0, ignore_index=True).to_frame()\n",
    "\n",
    "# Step 6: Check if the index goes only until 99\n",
    "print(bigcolumn.index.max())\n",
    "\n",
    "# Step 7: Reindex the DataFrame so it goes from 0 to 299\n",
    "bigcolumn = bigcolumn.reset_index(drop=True)\n",
    "\n",
    "# Displaying the results\n",
    "print(bigcolumn)"
   ]
  },
  {
   "cell_type": "code",
   "execution_count": null,
   "id": "7b4a3880-b421-44ba-a106-89f71c0f39aa",
   "metadata": {},
   "outputs": [],
   "source": []
  }
 ],
 "metadata": {
  "kernelspec": {
   "display_name": "Python 3 (ipykernel)",
   "language": "python",
   "name": "python3"
  },
  "language_info": {
   "codemirror_mode": {
    "name": "ipython",
    "version": 3
   },
   "file_extension": ".py",
   "mimetype": "text/x-python",
   "name": "python",
   "nbconvert_exporter": "python",
   "pygments_lexer": "ipython3",
   "version": "3.11.7"
  }
 },
 "nbformat": 4,
 "nbformat_minor": 5
}
