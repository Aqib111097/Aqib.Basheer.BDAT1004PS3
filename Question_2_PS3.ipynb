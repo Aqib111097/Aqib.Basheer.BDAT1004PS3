{
 "cells": [
  {
   "cell_type": "code",
   "execution_count": 4,
   "id": "87a24b3b-5173-4e1a-9c52-bbd18e144b48",
   "metadata": {},
   "outputs": [],
   "source": [
    "# Step 1: Import necessary libraries\n",
    "import pandas as pd"
   ]
  },
  {
   "cell_type": "code",
   "execution_count": 6,
   "id": "a96dca10-82b4-4a85-8803-bd13752d9081",
   "metadata": {},
   "outputs": [],
   "source": [
    "# Step 2: Import the dataset\n",
    "url = \"https://raw.githubusercontent.com/guipsamora/pandas_exercises/master/02_Filtering_%26_Sorting/Euro12/Euro_2012_stats_TEAM.csv\"\n",
    "euro12 = pd.read_csv(url)"
   ]
  },
  {
   "cell_type": "code",
   "execution_count": 7,
   "id": "9fffc7ef-1146-4971-8950-536abbb07502",
   "metadata": {},
   "outputs": [],
   "source": [
    "# Step 4: Select only the Goal column\n",
    "goals_column = euro12['Goals']"
   ]
  },
  {
   "cell_type": "code",
   "execution_count": 8,
   "id": "ae68babf-eaa1-4356-ae74-6e18e6ef5e4e",
   "metadata": {},
   "outputs": [],
   "source": [
    "# Step 5: How many teams participated in the Euro2012?\n",
    "num_teams = euro12['Team'].nunique()"
   ]
  },
  {
   "cell_type": "code",
   "execution_count": 9,
   "id": "4efde6d1-5271-4bd2-9601-237d1f140181",
   "metadata": {},
   "outputs": [],
   "source": [
    "# Step 6: What is the number of columns in the dataset?\n",
    "num_columns = euro12.shape[1]"
   ]
  },
  {
   "cell_type": "code",
   "execution_count": 10,
   "id": "3c2621e8-d0f0-4863-9660-021e3291a50a",
   "metadata": {},
   "outputs": [],
   "source": [
    "# Step 7: View only the columns Team, Yellow Cards and Red Cards\n",
    "discipline = euro12[['Team', 'Yellow Cards', 'Red Cards']]"
   ]
  },
  {
   "cell_type": "code",
   "execution_count": 11,
   "id": "18e4aca8-252a-4a3d-9673-6213551a32aa",
   "metadata": {},
   "outputs": [],
   "source": [
    "# Step 8: Sort the teams by Red Cards, then by Yellow Cards\n",
    "discipline_sorted = discipline.sort_values(by=['Red Cards', 'Yellow Cards'], ascending=False)"
   ]
  },
  {
   "cell_type": "code",
   "execution_count": 12,
   "id": "49b2968f-7496-41ec-a34a-27d6c6b94be8",
   "metadata": {},
   "outputs": [],
   "source": [
    "# Step 9: Calculate the mean Yellow Cards given per Team\n",
    "mean_yellow_cards = discipline['Yellow Cards'].mean()"
   ]
  },
  {
   "cell_type": "code",
   "execution_count": 13,
   "id": "4f3aa31a-54df-4afc-93b2-3ccee8478199",
   "metadata": {},
   "outputs": [],
   "source": [
    "# Step 10: Filter teams that scored more than 6 goals\n",
    "teams_more_than_6_goals = euro12[euro12['Goals'] > 6]"
   ]
  },
  {
   "cell_type": "code",
   "execution_count": 14,
   "id": "e9835bff-db70-4ef5-a076-a3059b5e6859",
   "metadata": {},
   "outputs": [],
   "source": [
    "# Step 11: Select the teams that start with G\n",
    "teams_starting_with_G = euro12[euro12['Team'].str.startswith('G')]"
   ]
  },
  {
   "cell_type": "code",
   "execution_count": 15,
   "id": "010d7589-73fd-49ba-8852-d1f611554bac",
   "metadata": {},
   "outputs": [],
   "source": [
    "# Step 12: Select the first 7 columns\n",
    "first_seven_columns = euro12.iloc[:, :7]"
   ]
  },
  {
   "cell_type": "code",
   "execution_count": 16,
   "id": "3458bf50-bc4b-41b7-8d4a-c7d96a15a6b2",
   "metadata": {},
   "outputs": [],
   "source": [
    "# Step 13: Select all columns except the last 3\n",
    "all_except_last_three_columns = euro12.iloc[:, :-3]"
   ]
  },
  {
   "cell_type": "code",
   "execution_count": 17,
   "id": "aad320fe-24bf-4aba-9516-32288742d0c8",
   "metadata": {},
   "outputs": [],
   "source": [
    "# Step 14: Present only the Shooting Accuracy from England, Italy, and Russia\n",
    "shooting_accuracy_selected_teams = euro12.loc[euro12['Team'].isin(['England', 'Italy', 'Russia']), ['Team', 'Shooting Accuracy']]"
   ]
  },
  {
   "cell_type": "code",
   "execution_count": 18,
   "id": "3cc611c9-db04-45bd-b855-ce8b94d8b23e",
   "metadata": {},
   "outputs": [
    {
     "name": "stdout",
     "output_type": "stream",
     "text": [
      "Number of teams participated in the Euro2012: 16\n",
      "\n",
      "Number of columns in the dataset: 35\n",
      "\n",
      "Mean Yellow Cards given per Team: 7.4375\n",
      "\n",
      "Teams that scored more than 6 goals:\n",
      "        Team  Goals\n",
      "5   Germany     10\n",
      "13    Spain     12\n",
      "\n",
      "Teams that start with G:\n",
      "       Team\n",
      "5  Germany\n",
      "6   Greece\n",
      "\n",
      "First 7 columns of the dataset:\n",
      "                    Team  Goals  Shots on target  Shots off target  \\\n",
      "0               Croatia      4               13                12   \n",
      "1        Czech Republic      4               13                18   \n",
      "2               Denmark      4               10                10   \n",
      "3               England      5               11                18   \n",
      "4                France      3               22                24   \n",
      "5               Germany     10               32                32   \n",
      "6                Greece      5                8                18   \n",
      "7                 Italy      6               34                45   \n",
      "8           Netherlands      2               12                36   \n",
      "9                Poland      2               15                23   \n",
      "10             Portugal      6               22                42   \n",
      "11  Republic of Ireland      1                7                12   \n",
      "12               Russia      5                9                31   \n",
      "13                Spain     12               42                33   \n",
      "14               Sweden      5               17                19   \n",
      "15              Ukraine      2                7                26   \n",
      "\n",
      "   Shooting Accuracy % Goals-to-shots  Total shots (inc. Blocked)  \n",
      "0              51.9%            16.0%                          32  \n",
      "1              41.9%            12.9%                          39  \n",
      "2              50.0%            20.0%                          27  \n",
      "3              50.0%            17.2%                          40  \n",
      "4              37.9%             6.5%                          65  \n",
      "5              47.8%            15.6%                          80  \n",
      "6              30.7%            19.2%                          32  \n",
      "7              43.0%             7.5%                         110  \n",
      "8              25.0%             4.1%                          60  \n",
      "9              39.4%             5.2%                          48  \n",
      "10             34.3%             9.3%                          82  \n",
      "11             36.8%             5.2%                          28  \n",
      "12             22.5%            12.5%                          59  \n",
      "13             55.9%            16.0%                         100  \n",
      "14             47.2%            13.8%                          39  \n",
      "15             21.2%             6.0%                          38  \n",
      "\n",
      "All columns except the last 3:\n",
      "                    Team  Goals  Shots on target  Shots off target  \\\n",
      "0               Croatia      4               13                12   \n",
      "1        Czech Republic      4               13                18   \n",
      "2               Denmark      4               10                10   \n",
      "3               England      5               11                18   \n",
      "4                France      3               22                24   \n",
      "5               Germany     10               32                32   \n",
      "6                Greece      5                8                18   \n",
      "7                 Italy      6               34                45   \n",
      "8           Netherlands      2               12                36   \n",
      "9                Poland      2               15                23   \n",
      "10             Portugal      6               22                42   \n",
      "11  Republic of Ireland      1                7                12   \n",
      "12               Russia      5                9                31   \n",
      "13                Spain     12               42                33   \n",
      "14               Sweden      5               17                19   \n",
      "15              Ukraine      2                7                26   \n",
      "\n",
      "   Shooting Accuracy % Goals-to-shots  Total shots (inc. Blocked)  \\\n",
      "0              51.9%            16.0%                          32   \n",
      "1              41.9%            12.9%                          39   \n",
      "2              50.0%            20.0%                          27   \n",
      "3              50.0%            17.2%                          40   \n",
      "4              37.9%             6.5%                          65   \n",
      "5              47.8%            15.6%                          80   \n",
      "6              30.7%            19.2%                          32   \n",
      "7              43.0%             7.5%                         110   \n",
      "8              25.0%             4.1%                          60   \n",
      "9              39.4%             5.2%                          48   \n",
      "10             34.3%             9.3%                          82   \n",
      "11             36.8%             5.2%                          28   \n",
      "12             22.5%            12.5%                          59   \n",
      "13             55.9%            16.0%                         100   \n",
      "14             47.2%            13.8%                          39   \n",
      "15             21.2%             6.0%                          38   \n",
      "\n",
      "    Hit Woodwork  Penalty goals  Penalties not scored  ...  Clean Sheets  \\\n",
      "0              0              0                     0  ...             0   \n",
      "1              0              0                     0  ...             1   \n",
      "2              1              0                     0  ...             1   \n",
      "3              0              0                     0  ...             2   \n",
      "4              1              0                     0  ...             1   \n",
      "5              2              1                     0  ...             1   \n",
      "6              1              1                     1  ...             1   \n",
      "7              2              0                     0  ...             2   \n",
      "8              2              0                     0  ...             0   \n",
      "9              0              0                     0  ...             0   \n",
      "10             6              0                     0  ...             2   \n",
      "11             0              0                     0  ...             0   \n",
      "12             2              0                     0  ...             0   \n",
      "13             0              1                     0  ...             5   \n",
      "14             3              0                     0  ...             1   \n",
      "15             0              0                     0  ...             0   \n",
      "\n",
      "    Blocks  Goals conceded Saves made  Saves-to-shots ratio  Fouls Won  \\\n",
      "0       10               3         13                 81.3%         41   \n",
      "1       10               6          9                 60.1%         53   \n",
      "2       10               5         10                 66.7%         25   \n",
      "3       29               3         22                 88.1%         43   \n",
      "4        7               5          6                 54.6%         36   \n",
      "5       11               6         10                 62.6%         63   \n",
      "6       23               7         13                 65.1%         67   \n",
      "7       18               7         20                 74.1%        101   \n",
      "8        9               5         12                 70.6%         35   \n",
      "9        8               3          6                 66.7%         48   \n",
      "10      11               4         10                 71.5%         73   \n",
      "11      23               9         17                 65.4%         43   \n",
      "12       8               3         10                 77.0%         34   \n",
      "13       8               1         15                 93.8%        102   \n",
      "14      12               5          8                 61.6%         35   \n",
      "15       4               4         13                 76.5%         48   \n",
      "\n",
      "    Fouls Conceded  Offsides  Yellow Cards  Red Cards  \n",
      "0               62         2             9          0  \n",
      "1               73         8             7          0  \n",
      "2               38         8             4          0  \n",
      "3               45         6             5          0  \n",
      "4               51         5             6          0  \n",
      "5               49        12             4          0  \n",
      "6               48        12             9          1  \n",
      "7               89        16            16          0  \n",
      "8               30         3             5          0  \n",
      "9               56         3             7          1  \n",
      "10              90        10            12          0  \n",
      "11              51        11             6          1  \n",
      "12              43         4             6          0  \n",
      "13              83        19            11          0  \n",
      "14              51         7             7          0  \n",
      "15              31         4             5          0  \n",
      "\n",
      "[16 rows x 32 columns]\n",
      "\n",
      "Shooting Accuracy from England, Italy, and Russia:\n",
      "        Team Shooting Accuracy\n",
      "3   England             50.0%\n",
      "7     Italy             43.0%\n",
      "12   Russia             22.5%\n"
     ]
    }
   ],
   "source": [
    "# Displaying the results\n",
    "print(\"Number of teams participated in the Euro2012:\", num_teams)\n",
    "print(\"\\nNumber of columns in the dataset:\", num_columns)\n",
    "print(\"\\nMean Yellow Cards given per Team:\", mean_yellow_cards)\n",
    "print(\"\\nTeams that scored more than 6 goals:\\n\", teams_more_than_6_goals[['Team', 'Goals']])\n",
    "print(\"\\nTeams that start with G:\\n\", teams_starting_with_G[['Team']])\n",
    "print(\"\\nFirst 7 columns of the dataset:\\n\", first_seven_columns)\n",
    "print(\"\\nAll columns except the last 3:\\n\", all_except_last_three_columns)\n",
    "print(\"\\nShooting Accuracy from England, Italy, and Russia:\\n\", shooting_accuracy_selected_teams)"
   ]
  },
  {
   "cell_type": "code",
   "execution_count": null,
   "id": "9c7691df-4050-4526-b38c-24457a1ef7dd",
   "metadata": {},
   "outputs": [],
   "source": []
  }
 ],
 "metadata": {
  "kernelspec": {
   "display_name": "Python 3 (ipykernel)",
   "language": "python",
   "name": "python3"
  },
  "language_info": {
   "codemirror_mode": {
    "name": "ipython",
    "version": 3
   },
   "file_extension": ".py",
   "mimetype": "text/x-python",
   "name": "python",
   "nbconvert_exporter": "python",
   "pygments_lexer": "ipython3",
   "version": "3.11.7"
  }
 },
 "nbformat": 4,
 "nbformat_minor": 5
}
